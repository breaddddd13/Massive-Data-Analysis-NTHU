{
 "cells": [
  {
   "cell_type": "markdown",
   "metadata": {},
   "source": [
    "### 基本宣告"
   ]
  },
  {
   "cell_type": "code",
   "execution_count": 1,
   "metadata": {},
   "outputs": [
    {
     "name": "stderr",
     "output_type": "stream",
     "text": [
      "21/10/04 11:39:09 WARN NativeCodeLoader: Unable to load native-hadoop library for your platform... using builtin-java classes where applicable\n",
      "Using Spark's default log4j profile: org/apache/spark/log4j-defaults.properties\n",
      "Setting default log level to \"WARN\".\n",
      "To adjust logging level use sc.setLogLevel(newLevel). For SparkR, use setLogLevel(newLevel).\n"
     ]
    }
   ],
   "source": [
    "import pyspark\n",
    "\n",
    "conf = pyspark.SparkConf().setMaster('local').setAppName('matrixMulti')\n",
    "sc = pyspark.SparkContext(conf=conf)"
   ]
  },
  {
   "cell_type": "markdown",
   "metadata": {},
   "source": [
    "### 用textFile將input讀進來後把每一行存成((M, row, col), val)的形式"
   ]
  },
  {
   "cell_type": "code",
   "execution_count": 2,
   "metadata": {},
   "outputs": [],
   "source": [
    "def mapper1(x):\n",
    "    l = x.split(',')\n",
    "    res = []\n",
    "\n",
    "    res.append(((l[0], int(l[1]), int(l[2])), int(l[3])))\n",
    "    return res\n",
    "\n",
    "\n",
    "distFile = sc.textFile(\"text.txt\")\n",
    "distFile = distFile.flatMap(mapper1)\n"
   ]
  },
  {
   "cell_type": "markdown",
   "metadata": {},
   "source": [
    "\n",
    "### 將原始RDD根據key filter成m, n兩個新的RDD，同時先將(row, col)的排序存到k，再把m矩陣相同的row group起來\b\b；n矩陣相同的col"
   ]
  },
  {
   "cell_type": "code",
   "execution_count": 3,
   "metadata": {},
   "outputs": [],
   "source": [
    "rdd_m = distFile.filter(lambda x: x[0][0] == 'M').map(\n",
    "    lambda x: ((x[0][1], x[0][2]), x[1]))\n",
    "rdd_n = distFile.filter(lambda x: x[0][0] == 'N').map(\n",
    "    lambda x: ((x[0][1], x[0][2]), x[1]))\n",
    "k = rdd_m.map(lambda x: x[0])\n",
    "\n",
    "rdd_m = rdd_m.groupBy(lambda x: x[0][0]).map(\n",
    "    lambda g: (tuple(x for x in g[1])))\n",
    "rdd_n = rdd_n.groupBy(lambda x: x[0][1]).map(\n",
    "    lambda g: (tuple(x for x in g[1])))\n"
   ]
  },
  {
   "cell_type": "markdown",
   "metadata": {},
   "source": [
    "\n",
    "### 定義mapper2用來將算出來的積加總"
   ]
  },
  {
   "cell_type": "code",
   "execution_count": 4,
   "metadata": {},
   "outputs": [],
   "source": [
    "def mapper2(x):\n",
    "    res = 0\n",
    "\n",
    "    for i in range(len(x[0])):\n",
    "        res += x[0][i][1] * x[1][i][1]\n",
    "\n",
    "    return res\n"
   ]
  },
  {
   "cell_type": "markdown",
   "metadata": {},
   "source": [
    "## 主要邏輯與輸出\n",
    "### 用cartesian去算出行列的乘積並且依照順序排序好，再用mapper2把行列的乘積加總起來\n",
    "### 把上面先存起來的(row, col)的key跟算出來的值zip起來，最後再輸出至Outputfile"
   ]
  },
  {
   "cell_type": "code",
   "execution_count": 5,
   "metadata": {},
   "outputs": [
    {
     "name": "stderr",
     "output_type": "stream",
     "text": []
    }
   ],
   "source": [
    "matrix = rdd_m.cartesian(rdd_n).sortBy(lambda x: x[0][0][0]).map(mapper2)\n",
    "k = k.zip(matrix)\n",
    "k = k.map(lambda x: (x[0][0], x[0][1], x[1]))\n",
    "\n",
    "res = k.collect()\n",
    "with open('Outputfile.txt', 'w+') as f:\n",
    "    for i in res:\n",
    "        f.write(f'{i[0]},{i[1]},{i[2]}\\n')\n",
    "\n",
    "sc.stop()\n"
   ]
  }
 ],
 "metadata": {
  "kernelspec": {
   "display_name": "Python 3 (ipykernel)",
   "language": "python",
   "name": "python3"
  },
  "language_info": {
   "codemirror_mode": {
    "name": "ipython",
    "version": 3
   },
   "file_extension": ".py",
   "mimetype": "text/x-python",
   "name": "python",
   "nbconvert_exporter": "python",
   "pygments_lexer": "ipython3",
   "version": "3.8.7"
  }
 },
 "nbformat": 4,
 "nbformat_minor": 5
}