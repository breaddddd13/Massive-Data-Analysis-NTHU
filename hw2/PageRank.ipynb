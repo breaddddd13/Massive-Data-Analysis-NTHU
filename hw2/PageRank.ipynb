{
 "cells": [
  {
   "cell_type": "markdown",
   "metadata": {},
   "source": [
    "## Report"
   ]
  },
  {
   "cell_type": "markdown",
   "metadata": {},
   "source": [
    "## 1. 先將資料透過readData轉成(out_node, in_node)的形式紀錄edge，然後分別紀錄inlink跟outlink的node，透過union得到總共的node"
   ]
  },
  {
   "cell_type": "code",
   "execution_count": 10,
   "metadata": {},
   "outputs": [
    {
     "name": "stderr",
     "output_type": "stream",
     "text": []
    }
   ],
   "source": [
    "import pyspark\n",
    "\n",
    "\n",
    "conf = pyspark.SparkConf().setMaster('local').setAppName('pagerank')\n",
    "sc = pyspark.SparkContext(conf=conf)\n",
    "\n",
    "distFile = sc.textFile(\"input.txt\")\n",
    "\n",
    "\n",
    "def readData(x):\n",
    "    l = x.split('\\t')\n",
    "    res = []\n",
    "    res.append((l[0], l[1]))\n",
    "    return res\n",
    "\n",
    "\n",
    "def buildMartix(x):\n",
    "    col = []\n",
    "    for i in x[1]:\n",
    "        length = len(x[1])\n",
    "        col.append((x[0], (i, 1/length)))\n",
    "\n",
    "    return (col)\n",
    "\n",
    "\n",
    "rdd = distFile.flatMap(readData)\n",
    "\n",
    "outlinks = rdd.keys().distinct()\n",
    "inlinks = rdd.map(lambda x: x[1]).distinct()\n",
    "\n",
    "nodes = sc.union([outlinks, inlinks]).keyBy(lambda x: x).sortByKey().distinct()\n",
    "nodes = nodes.map(lambda x: x[1])\n",
    "nodes_num = nodes.count()\n"
   ]
  },
  {
   "cell_type": "markdown",
   "metadata": {},
   "source": [
    "## 2. 將outlink的node跟inlink的node做substract可以得到只有outlink的node，並新增一個連到自己的edge，weight為0\n",
    "##    把相同outlink的node用groupByKey合在一起，資料變成這種形式(out, [in1, in2, in3....])"
   ]
  },
  {
   "cell_type": "code",
   "execution_count": 11,
   "metadata": {},
   "outputs": [],
   "source": [
    "only_out_nodes = outlinks.subtract(inlinks)\n",
    "only_out_nodes = only_out_nodes.map(lambda x: (x, (x, 0)))\n",
    "rdd = rdd.groupByKey().mapValues(list)"
   ]
  },
  {
   "cell_type": "markdown",
   "metadata": {},
   "source": [
    "## 3. 接著可以用連出去的edge的總數算出每條edge該有的weight\n",
    "## 再將原始的資料跟只有outlink的node union在一起，就可以得到原始的matrix\n",
    "## 將matrix乘上beta值後，把資料轉成(out_node, (in_node, weight))"
   ]
  },
  {
   "cell_type": "code",
   "execution_count": 12,
   "metadata": {},
   "outputs": [],
   "source": [
    "beta = 0.8\n",
    "r = nodes.map(lambda x: (x, (1/nodes_num)))\n",
    "matrix = rdd.flatMap(buildMartix)\n",
    "matrix = sc.union([matrix, only_out_nodes]).sortByKey()\n",
    "matrix = matrix.map(lambda x: (x[0], (x[1][0], x[1][1] * beta)))\n",
    "\n",
    "_A = matrix.map(lambda x: (x[0], (x[1][0], x[1][1])))"
   ]
  },
  {
   "cell_type": "markdown",
   "metadata": {},
   "source": [
    "## 4. 最後是進行iteration，在算出每一次iterate後的r，因為會有dead-end的可能，所以要更新r的值\n",
    "## 把最終的r用value做排列，最後輸出前20個node"
   ]
  },
  {
   "cell_type": "code",
   "execution_count": 13,
   "metadata": {},
   "outputs": [
    {
     "name": "stderr",
     "output_type": "stream",
     "text": []
    },
    {
     "name": "stdout",
     "output_type": "stream",
     "text": [
      "4240\t0.000632\n",
      "\n",
      "10861\t0.000629\n",
      "\n",
      "6899\t0.000524\n",
      "\n",
      "9526\t0.000512\n",
      "\n",
      "2118\t0.000496\n",
      "\n",
      "3419\t0.000485\n",
      "\n",
      "1311\t0.000480\n",
      "\n",
      "3186\t0.000470\n",
      "\n",
      "3541\t0.000463\n",
      "\n",
      "367\t0.000462\n",
      "\n"
     ]
    }
   ],
   "source": [
    "\n",
    "def productSum(x):\n",
    "    res = 0\n",
    "    for i in range(len(x[0][1])):\n",
    "        res += (x[0][1][i] * x[1][i])\n",
    "    return res\n",
    "\n",
    "\n",
    "for i in range(20):\n",
    "    r = _A.join(r).map(lambda x: (\n",
    "        x[1][0][0], x[1][0][1] * x[1][1])).reduceByKey(lambda x, y: x+y)\n",
    "    _sum = r.values().sum()\n",
    "    r = r.map(lambda x: (x[0], x[1]+((1 - _sum) / nodes_num)))\n",
    "\n",
    "r = r.sortBy(lambda x: x[1], ascending=False)\n",
    "\n",
    "res = r.take(10)\n",
    "with open('Outputfile.txt', 'w+') as f:\n",
    "    for i in res:\n",
    "        f.write(f'{i[0]}\\t{i[1]:.6f}\\n')\n",
    "        print(f'{i[0]}\\t{i[1]:.6f}\\n')\n",
    "\n",
    "sc.stop()"
   ]
  }
 ],
 "metadata": {
  "kernelspec": {
   "display_name": "Python 3.8.7 64-bit",
   "metadata": {
    "interpreter": {
     "hash": "104f5f869525d50de3a8adbecb7067cc042173c5ed9d2515a0d909927e05b8d1"
    }
   },
   "name": "python3"
  },
  "language_info": {
   "codemirror_mode": {
    "name": "ipython",
    "version": 3
   },
   "file_extension": ".py",
   "mimetype": "text/x-python",
   "name": "python",
   "nbconvert_exporter": "python",
   "pygments_lexer": "ipython3",
   "version": "3.8.7"
  },
  "orig_nbformat": 2
 },
 "nbformat": 4,
 "nbformat_minor": 2
}